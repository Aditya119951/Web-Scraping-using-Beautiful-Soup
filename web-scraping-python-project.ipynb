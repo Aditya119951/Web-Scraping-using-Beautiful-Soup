{
 "cells": [
  {
   "cell_type": "markdown",
   "metadata": {},
   "source": [
    "### Project Outline:\n",
    "We are going to scrap https://store.steampowered.com/games/\n",
    "\n",
    "* Need to scrap top 5 New and Trending games\n",
    "\n",
    "* For every games count number of positive reviews, name of developer and publisher\n",
    "\n",
    "* System Requirements\n",
    "\n",
    "* 10 review for each game"
   ]
  },
  {
   "cell_type": "markdown",
   "metadata": {},
   "source": [
    "#### Importing relevant libraries"
   ]
  },
  {
   "cell_type": "code",
   "execution_count": 31,
   "metadata": {
    "execution": {
     "iopub.execute_input": "2021-08-03T17:06:50.161485Z",
     "iopub.status.busy": "2021-08-03T17:06:50.161087Z",
     "iopub.status.idle": "2021-08-03T17:06:50.166575Z",
     "shell.execute_reply": "2021-08-03T17:06:50.165155Z",
     "shell.execute_reply.started": "2021-08-03T17:06:50.161452Z"
    }
   },
   "outputs": [],
   "source": [
    "import pandas as pd\n",
    "import requests\n",
    "from bs4 import BeautifulSoup"
   ]
  },
  {
   "cell_type": "code",
   "execution_count": 32,
   "metadata": {
    "execution": {
     "iopub.execute_input": "2021-08-03T17:06:50.443367Z",
     "iopub.status.busy": "2021-08-03T17:06:50.442816Z",
     "iopub.status.idle": "2021-08-03T17:06:50.446735Z",
     "shell.execute_reply": "2021-08-03T17:06:50.446005Z",
     "shell.execute_reply.started": "2021-08-03T17:06:50.443330Z"
    }
   },
   "outputs": [],
   "source": [
    "#to get the webpage\n",
    "games_url = 'https://store.steampowered.com/games/'  "
   ]
  },
  {
   "cell_type": "code",
   "execution_count": 33,
   "metadata": {
    "execution": {
     "iopub.execute_input": "2021-08-03T17:06:50.750126Z",
     "iopub.status.busy": "2021-08-03T17:06:50.749764Z",
     "iopub.status.idle": "2021-08-03T17:06:51.866542Z",
     "shell.execute_reply": "2021-08-03T17:06:51.865740Z",
     "shell.execute_reply.started": "2021-08-03T17:06:50.750091Z"
    }
   },
   "outputs": [],
   "source": [
    "#to download the webpage\n",
    "response = requests.get(games_url)  "
   ]
  },
  {
   "cell_type": "code",
   "execution_count": 34,
   "metadata": {
    "execution": {
     "iopub.execute_input": "2021-08-03T17:06:51.868449Z",
     "iopub.status.busy": "2021-08-03T17:06:51.867953Z",
     "iopub.status.idle": "2021-08-03T17:06:51.873522Z",
     "shell.execute_reply": "2021-08-03T17:06:51.872523Z",
     "shell.execute_reply.started": "2021-08-03T17:06:51.868417Z"
    }
   },
   "outputs": [
    {
     "data": {
      "text/plain": [
       "200"
      ]
     },
     "execution_count": 34,
     "metadata": {},
     "output_type": "execute_result"
    }
   ],
   "source": [
    "#tocheck the status whether the web page is succesfully loaded or not\n",
    "response.status_code  "
   ]
  },
  {
   "cell_type": "code",
   "execution_count": 35,
   "metadata": {
    "execution": {
     "iopub.execute_input": "2021-08-03T17:06:51.875891Z",
     "iopub.status.busy": "2021-08-03T17:06:51.875465Z",
     "iopub.status.idle": "2021-08-03T17:06:51.886341Z",
     "shell.execute_reply": "2021-08-03T17:06:51.885202Z",
     "shell.execute_reply.started": "2021-08-03T17:06:51.875846Z"
    }
   },
   "outputs": [],
   "source": [
    "page_contents = response.text "
   ]
  },
  {
   "cell_type": "markdown",
   "metadata": {},
   "source": [
    "#### Using beautiful soup to parse and extract the information:"
   ]
  },
  {
   "cell_type": "code",
   "execution_count": 36,
   "metadata": {
    "execution": {
     "iopub.execute_input": "2021-08-03T17:06:52.602008Z",
     "iopub.status.busy": "2021-08-03T17:06:52.601663Z",
     "iopub.status.idle": "2021-08-03T17:06:52.712881Z",
     "shell.execute_reply": "2021-08-03T17:06:52.712023Z",
     "shell.execute_reply.started": "2021-08-03T17:06:52.601980Z"
    }
   },
   "outputs": [],
   "source": [
    "doc = BeautifulSoup(page_contents, 'html.parser')"
   ]
  },
  {
   "cell_type": "code",
   "execution_count": 37,
   "metadata": {
    "execution": {
     "iopub.execute_input": "2021-08-03T17:06:53.080558Z",
     "iopub.status.busy": "2021-08-03T17:06:53.080021Z",
     "iopub.status.idle": "2021-08-03T17:06:53.085544Z",
     "shell.execute_reply": "2021-08-03T17:06:53.084814Z",
     "shell.execute_reply.started": "2021-08-03T17:06:53.080521Z"
    }
   },
   "outputs": [
    {
     "data": {
      "text/plain": [
       "bs4.BeautifulSoup"
      ]
     },
     "execution_count": 37,
     "metadata": {},
     "output_type": "execute_result"
    }
   ],
   "source": [
    "type(doc)"
   ]
  },
  {
   "cell_type": "code",
   "execution_count": 38,
   "metadata": {
    "execution": {
     "iopub.execute_input": "2021-08-03T17:06:53.549363Z",
     "iopub.status.busy": "2021-08-03T17:06:53.548976Z",
     "iopub.status.idle": "2021-08-03T17:06:53.572856Z",
     "shell.execute_reply": "2021-08-03T17:06:53.571372Z",
     "shell.execute_reply.started": "2021-08-03T17:06:53.549331Z"
    }
   },
   "outputs": [],
   "source": [
    "selection_class = 'tab_item_name'\n",
    "game_title_tags = doc.find_all('div', {'class' :selection_class })"
   ]
  },
  {
   "cell_type": "code",
   "execution_count": 39,
   "metadata": {
    "execution": {
     "iopub.execute_input": "2021-08-03T17:06:54.163586Z",
     "iopub.status.busy": "2021-08-03T17:06:54.163094Z",
     "iopub.status.idle": "2021-08-03T17:06:54.179367Z",
     "shell.execute_reply": "2021-08-03T17:06:54.178333Z",
     "shell.execute_reply.started": "2021-08-03T17:06:54.163553Z"
    }
   },
   "outputs": [],
   "source": [
    "link_selection = 'tab_item'\n",
    "game_title_links = doc.find_all('a', {'class': link_selection})"
   ]
  },
  {
   "cell_type": "code",
   "execution_count": 40,
   "metadata": {
    "execution": {
     "iopub.execute_input": "2021-08-03T17:06:54.633017Z",
     "iopub.status.busy": "2021-08-03T17:06:54.632468Z",
     "iopub.status.idle": "2021-08-03T17:06:54.639375Z",
     "shell.execute_reply": "2021-08-03T17:06:54.638598Z",
     "shell.execute_reply.started": "2021-08-03T17:06:54.632970Z"
    }
   },
   "outputs": [
    {
     "data": {
      "text/plain": [
       "60"
      ]
     },
     "execution_count": 40,
     "metadata": {},
     "output_type": "execute_result"
    }
   ],
   "source": [
    "len(game_title_links)"
   ]
  },
  {
   "cell_type": "code",
   "execution_count": 41,
   "metadata": {
    "execution": {
     "iopub.execute_input": "2021-08-03T17:06:55.469298Z",
     "iopub.status.busy": "2021-08-03T17:06:55.468768Z",
     "iopub.status.idle": "2021-08-03T17:06:55.474823Z",
     "shell.execute_reply": "2021-08-03T17:06:55.474168Z",
     "shell.execute_reply.started": "2021-08-03T17:06:55.469250Z"
    }
   },
   "outputs": [
    {
     "data": {
      "text/plain": [
       "'https://store.steampowered.com/app/925950/Here_Comes_Niko/?snr=1_1452_4__103'"
      ]
     },
     "execution_count": 41,
     "metadata": {},
     "output_type": "execute_result"
    }
   ],
   "source": [
    "game_title_links[0]['href']"
   ]
  },
  {
   "cell_type": "code",
   "execution_count": 42,
   "metadata": {
    "execution": {
     "iopub.execute_input": "2021-08-03T17:06:55.828379Z",
     "iopub.status.busy": "2021-08-03T17:06:55.828005Z",
     "iopub.status.idle": "2021-08-03T17:06:55.834746Z",
     "shell.execute_reply": "2021-08-03T17:06:55.833388Z",
     "shell.execute_reply.started": "2021-08-03T17:06:55.828343Z"
    }
   },
   "outputs": [
    {
     "name": "stdout",
     "output_type": "stream",
     "text": [
      "['Here Comes Niko!', 'The Ramp', \"Hunter's Arena: Legends\", 'Olaguna Chronicles', 'Who Stole My Beard?']\n"
     ]
    }
   ],
   "source": [
    "game_name = []\n",
    "limit = 4\n",
    "for index, tag in enumerate(game_title_tags):\n",
    "    game_name.append(tag.text)\n",
    "    if index == limit:\n",
    "        break\n",
    "print(game_name)"
   ]
  },
  {
   "cell_type": "code",
   "execution_count": 43,
   "metadata": {
    "execution": {
     "iopub.execute_input": "2021-08-03T17:06:56.339454Z",
     "iopub.status.busy": "2021-08-03T17:06:56.339060Z",
     "iopub.status.idle": "2021-08-03T17:06:56.346519Z",
     "shell.execute_reply": "2021-08-03T17:06:56.345284Z",
     "shell.execute_reply.started": "2021-08-03T17:06:56.339414Z"
    }
   },
   "outputs": [
    {
     "data": {
      "text/plain": [
       "['Here Comes Niko!',\n",
       " 'The Ramp',\n",
       " \"Hunter's Arena: Legends\",\n",
       " 'Olaguna Chronicles',\n",
       " 'Who Stole My Beard?']"
      ]
     },
     "execution_count": 43,
     "metadata": {},
     "output_type": "execute_result"
    }
   ],
   "source": [
    "game_name"
   ]
  },
  {
   "cell_type": "code",
   "execution_count": 44,
   "metadata": {
    "execution": {
     "iopub.execute_input": "2021-08-03T17:06:56.885570Z",
     "iopub.status.busy": "2021-08-03T17:06:56.885188Z",
     "iopub.status.idle": "2021-08-03T17:06:56.894792Z",
     "shell.execute_reply": "2021-08-03T17:06:56.893483Z",
     "shell.execute_reply.started": "2021-08-03T17:06:56.885536Z"
    }
   },
   "outputs": [
    {
     "data": {
      "text/plain": [
       "['https://store.steampowered.com/app/925950/Here_Comes_Niko/?snr=1_1452_4__103',\n",
       " 'https://store.steampowered.com/app/1506510/The_Ramp/?snr=1_1452_4__103',\n",
       " 'https://store.steampowered.com/app/1061100/Hunters_Arena_Legends/?snr=1_1452_4__103',\n",
       " 'https://store.steampowered.com/app/985650/Olaguna_Chronicles/?snr=1_1452_4__103',\n",
       " 'https://store.steampowered.com/app/1141270/Who_Stole_My_Beard/?snr=1_1452_4__103']"
      ]
     },
     "execution_count": 44,
     "metadata": {},
     "output_type": "execute_result"
    }
   ],
   "source": [
    "game_link = []\n",
    "limit = 4\n",
    "for index, tag in enumerate(game_title_links):\n",
    "    game_link.append(tag['href'])\n",
    "    if index == limit:\n",
    "        break\n",
    "game_link"
   ]
  },
  {
   "cell_type": "markdown",
   "metadata": {},
   "source": [
    "#### Calculating number of positive reviews, name of developer, publisher and system requirement"
   ]
  },
  {
   "cell_type": "markdown",
   "metadata": {},
   "source": [
    "#### Positive reviews"
   ]
  },
  {
   "cell_type": "code",
   "execution_count": 45,
   "metadata": {
    "execution": {
     "iopub.execute_input": "2021-08-03T17:06:59.283659Z",
     "iopub.status.busy": "2021-08-03T17:06:59.283282Z",
     "iopub.status.idle": "2021-08-03T17:07:02.879807Z",
     "shell.execute_reply": "2021-08-03T17:07:02.878742Z",
     "shell.execute_reply.started": "2021-08-03T17:06:59.283625Z"
    }
   },
   "outputs": [],
   "source": [
    "game_page_url = game_link[0]\n",
    "response = requests.get(game_page_url)\n",
    "doc2 = BeautifulSoup(response.text, 'html.parser')\n",
    "positive_review_tags = doc2.find_all('span', {'class': 'responsive_hidden'})\n",
    "positive_review0 = positive_review_tags[0].text.strip()\n",
    "\n",
    "game_page_url = game_link[1]\n",
    "response = requests.get(game_page_url)\n",
    "doc2 = BeautifulSoup(response.text, 'html.parser')\n",
    "positive_review_tags = doc2.find_all('span', {'class': 'responsive_hidden'})\n",
    "positive_review1 = positive_review_tags[0].text.strip()\n",
    "\n",
    "game_page_url = game_link[2]\n",
    "response = requests.get(game_page_url)\n",
    "doc2 = BeautifulSoup(response.text, 'html.parser')\n",
    "positive_review_tags = doc2.find_all('span', {'class': 'responsive_hidden'})\n",
    "positive_review2 = positive_review_tags[0].text.strip()\n",
    "\n",
    "game_page_url = game_link[3]\n",
    "response = requests.get(game_page_url)\n",
    "doc2 = BeautifulSoup(response.text, 'html.parser')\n",
    "positive_review_tags = doc2.find_all('span', {'class': 'responsive_hidden'})\n",
    "positive_review3 = positive_review_tags[0].text.strip()\n",
    "\n",
    "game_page_url = game_link[4]\n",
    "response = requests.get(game_page_url)\n",
    "doc2 = BeautifulSoup(response.text, 'html.parser')\n",
    "positive_review_tags = doc2.find_all('span', {'class': 'responsive_hidden'})\n",
    "positive_review4 = positive_review_tags[0].text.strip()"
   ]
  },
  {
   "cell_type": "markdown",
   "metadata": {},
   "source": [
    "#### Name of developer"
   ]
  },
  {
   "cell_type": "code",
   "execution_count": 46,
   "metadata": {
    "execution": {
     "iopub.execute_input": "2021-08-03T17:07:05.830549Z",
     "iopub.status.busy": "2021-08-03T17:07:05.830150Z",
     "iopub.status.idle": "2021-08-03T17:07:09.262606Z",
     "shell.execute_reply": "2021-08-03T17:07:09.261558Z",
     "shell.execute_reply.started": "2021-08-03T17:07:05.830518Z"
    }
   },
   "outputs": [],
   "source": [
    "game_page_url = game_link[0]\n",
    "response = requests.get(game_page_url)\n",
    "doc2 = BeautifulSoup(response.text, 'html.parser')\n",
    "developer_tags =doc2.find_all('div', {'class': 'summary column', 'id':'developers_list'})\n",
    "developer0 = developer_tags[0].text.strip() \n",
    "\n",
    "game_page_url = game_link[1]\n",
    "response = requests.get(game_page_url)\n",
    "doc2 = BeautifulSoup(response.text, 'html.parser')\n",
    "developer_tags =doc2.find_all('div', {'class': 'summary column', 'id':'developers_list'})\n",
    "developer1 = developer_tags[0].text.strip() \n",
    "\n",
    "game_page_url = game_link[2]\n",
    "response = requests.get(game_page_url)\n",
    "doc2 = BeautifulSoup(response.text, 'html.parser')\n",
    "developer_tags =doc2.find_all('div', {'class': 'summary column', 'id':'developers_list'})\n",
    "developer2 = developer_tags[0].text.strip()\n",
    "\n",
    "game_page_url = game_link[3]\n",
    "response = requests.get(game_page_url)\n",
    "doc2 = BeautifulSoup(response.text, 'html.parser')\n",
    "developer_tags =doc2.find_all('div', {'class': 'summary column', 'id':'developers_list'})\n",
    "developer3 = developer_tags[0].text.strip() \n",
    "\n",
    "game_page_url = game_link[4]\n",
    "response = requests.get(game_page_url)\n",
    "doc2 = BeautifulSoup(response.text, 'html.parser')\n",
    "developer_tags =doc2.find_all('div', {'class': 'summary column', 'id':'developers_list'})\n",
    "developer4 = developer_tags[0].text.strip() "
   ]
  },
  {
   "cell_type": "markdown",
   "metadata": {},
   "source": [
    "#### Name of Publisher"
   ]
  },
  {
   "cell_type": "code",
   "execution_count": 47,
   "metadata": {
    "execution": {
     "iopub.execute_input": "2021-08-03T17:07:11.400539Z",
     "iopub.status.busy": "2021-08-03T17:07:11.400058Z",
     "iopub.status.idle": "2021-08-03T17:07:15.092503Z",
     "shell.execute_reply": "2021-08-03T17:07:15.091394Z",
     "shell.execute_reply.started": "2021-08-03T17:07:11.400423Z"
    }
   },
   "outputs": [],
   "source": [
    "game_page_url = game_link[0]\n",
    "response = requests.get(game_page_url)\n",
    "doc2 = BeautifulSoup(response.text, 'html.parser')\n",
    "publisher_tags =doc2.find_all('div', {'class': 'summary column'})\n",
    "publisher0 = publisher_tags[2].text.strip()\n",
    "\n",
    "game_page_url = game_link[1]\n",
    "response = requests.get(game_page_url)\n",
    "doc2 = BeautifulSoup(response.text, 'html.parser')\n",
    "publisher_tags =doc2.find_all('div', {'class': 'summary column'})\n",
    "publisher1 = publisher_tags[2].text.strip()\n",
    "\n",
    "game_page_url = game_link[2]\n",
    "response = requests.get(game_page_url)\n",
    "doc2 = BeautifulSoup(response.text, 'html.parser')\n",
    "publisher_tags =doc2.find_all('div', {'class': 'summary column'})\n",
    "publisher2 = publisher_tags[2].text.strip()\n",
    "\n",
    "game_page_url = game_link[3]\n",
    "response = requests.get(game_page_url)\n",
    "doc2 = BeautifulSoup(response.text, 'html.parser')\n",
    "publisher_tags =doc2.find_all('div', {'class': 'summary column'})\n",
    "publisher3 = publisher_tags[2].text.strip()\n",
    "\n",
    "game_page_url = game_link[4]\n",
    "response = requests.get(game_page_url)\n",
    "doc2 = BeautifulSoup(response.text, 'html.parser')\n",
    "publisher_tags =doc2.find_all('div', {'class': 'summary column'})\n",
    "publisher4 = publisher_tags[2].text.strip()"
   ]
  },
  {
   "cell_type": "markdown",
   "metadata": {},
   "source": [
    "#### System Requirements: OS"
   ]
  },
  {
   "cell_type": "code",
   "execution_count": 48,
   "metadata": {
    "execution": {
     "iopub.execute_input": "2021-08-03T17:07:17.268860Z",
     "iopub.status.busy": "2021-08-03T17:07:17.268505Z",
     "iopub.status.idle": "2021-08-03T17:07:20.725555Z",
     "shell.execute_reply": "2021-08-03T17:07:20.724512Z",
     "shell.execute_reply.started": "2021-08-03T17:07:17.268831Z"
    }
   },
   "outputs": [],
   "source": [
    "game_page_url = game_link[0]\n",
    "response = requests.get(game_page_url)\n",
    "doc2 = BeautifulSoup(response.text, 'html.parser')\n",
    "system_requirements = doc2.find_all('ul', {'class': 'bb_ul'})\n",
    "system_requir = system_requirements[0].find_all('li')\n",
    "OS0 = system_requir[0].text.strip()\n",
    "\n",
    "game_page_url = game_link[1]\n",
    "response = requests.get(game_page_url)\n",
    "doc2 = BeautifulSoup(response.text, 'html.parser')\n",
    "system_requirements = doc2.find_all('ul', {'class': 'bb_ul'})\n",
    "system_requir = system_requirements[0].find_all('li')\n",
    "OS1 = system_requir[0].text.strip()\n",
    "\n",
    "game_page_url = game_link[2]\n",
    "response = requests.get(game_page_url)\n",
    "doc2 = BeautifulSoup(response.text, 'html.parser')\n",
    "system_requirements = doc2.find_all('ul', {'class': 'bb_ul'})\n",
    "system_requir = system_requirements[0].find_all('li')\n",
    "OS2 = system_requir[0].text.strip()\n",
    "\n",
    "game_page_url = game_link[3]\n",
    "response = requests.get(game_page_url)\n",
    "doc2 = BeautifulSoup(response.text, 'html.parser')\n",
    "system_requirements = doc2.find_all('ul', {'class': 'bb_ul'})\n",
    "system_requir = system_requirements[0].find_all('li')\n",
    "OS3 = system_requir[0].text.strip()\n",
    "\n",
    "game_page_url = game_link[4]\n",
    "response = requests.get(game_page_url)\n",
    "doc2 = BeautifulSoup(response.text, 'html.parser')\n",
    "system_requirements = doc2.find_all('ul', {'class': 'bb_ul'})\n",
    "system_requir = system_requirements[0].find_all('li')\n",
    "OS4 = system_requir[0].text.strip()"
   ]
  },
  {
   "cell_type": "markdown",
   "metadata": {
    "execution": {
     "iopub.execute_input": "2021-08-03T12:21:39.471852Z",
     "iopub.status.busy": "2021-08-03T12:21:39.471476Z",
     "iopub.status.idle": "2021-08-03T12:21:39.479068Z",
     "shell.execute_reply": "2021-08-03T12:21:39.477992Z",
     "shell.execute_reply.started": "2021-08-03T12:21:39.471822Z"
    }
   },
   "source": [
    "#### System Requirements: Processor"
   ]
  },
  {
   "cell_type": "code",
   "execution_count": 49,
   "metadata": {
    "execution": {
     "iopub.execute_input": "2021-08-03T17:07:22.840020Z",
     "iopub.status.busy": "2021-08-03T17:07:22.839625Z",
     "iopub.status.idle": "2021-08-03T17:07:26.272341Z",
     "shell.execute_reply": "2021-08-03T17:07:26.271290Z",
     "shell.execute_reply.started": "2021-08-03T17:07:22.839984Z"
    }
   },
   "outputs": [],
   "source": [
    "game_page_url = game_link[0]\n",
    "response = requests.get(game_page_url)\n",
    "doc2 = BeautifulSoup(response.text, 'html.parser')\n",
    "system_requirements = doc2.find_all('ul', {'class': 'bb_ul'})\n",
    "system_requir = system_requirements[0].find_all('li')\n",
    "Processor0 = system_requir[1].text.strip()\n",
    "\n",
    "game_page_url = game_link[1]\n",
    "response = requests.get(game_page_url)\n",
    "doc2 = BeautifulSoup(response.text, 'html.parser')\n",
    "system_requirements = doc2.find_all('ul', {'class': 'bb_ul'})\n",
    "system_requir = system_requirements[0].find_all('li')\n",
    "Processor1 = system_requir[1].text.strip()\n",
    "\n",
    "game_page_url = game_link[2]\n",
    "response = requests.get(game_page_url)\n",
    "doc2 = BeautifulSoup(response.text, 'html.parser')\n",
    "system_requirements = doc2.find_all('ul', {'class': 'bb_ul'})\n",
    "system_requir = system_requirements[0].find_all('li')\n",
    "Processor2 = system_requir[1].text.strip()\n",
    "\n",
    "game_page_url = game_link[3]\n",
    "response = requests.get(game_page_url)\n",
    "doc2 = BeautifulSoup(response.text, 'html.parser')\n",
    "system_requirements = doc2.find_all('ul', {'class': 'bb_ul'})\n",
    "system_requir = system_requirements[0].find_all('li')\n",
    "Processor3 = system_requir[1].text.strip()\n",
    "\n",
    "game_page_url = game_link[4]\n",
    "response = requests.get(game_page_url)\n",
    "doc2 = BeautifulSoup(response.text, 'html.parser')\n",
    "system_requirements = doc2.find_all('ul', {'class': 'bb_ul'})\n",
    "system_requir = system_requirements[0].find_all('li')\n",
    "Processor4 = system_requir[1].text.strip()"
   ]
  },
  {
   "cell_type": "markdown",
   "metadata": {},
   "source": [
    "#### System Requirements: Memory"
   ]
  },
  {
   "cell_type": "code",
   "execution_count": 50,
   "metadata": {
    "execution": {
     "iopub.execute_input": "2021-08-03T17:07:28.659057Z",
     "iopub.status.busy": "2021-08-03T17:07:28.658706Z",
     "iopub.status.idle": "2021-08-03T17:07:31.946915Z",
     "shell.execute_reply": "2021-08-03T17:07:31.945501Z",
     "shell.execute_reply.started": "2021-08-03T17:07:28.659028Z"
    }
   },
   "outputs": [],
   "source": [
    "game_page_url = game_link[0]\n",
    "response = requests.get(game_page_url)\n",
    "doc2 = BeautifulSoup(response.text, 'html.parser')\n",
    "system_requirements = doc2.find_all('ul', {'class': 'bb_ul'})\n",
    "system_requir = system_requirements[0].find_all('li')\n",
    "Memory0 = system_requir[2].text.strip()\n",
    "\n",
    "game_page_url = game_link[1]\n",
    "response = requests.get(game_page_url)\n",
    "doc2 = BeautifulSoup(response.text, 'html.parser')\n",
    "system_requirements = doc2.find_all('ul', {'class': 'bb_ul'})\n",
    "system_requir = system_requirements[0].find_all('li')\n",
    "Memory1 = system_requir[2].text.strip()\n",
    "\n",
    "game_page_url = game_link[2]\n",
    "response = requests.get(game_page_url)\n",
    "doc2 = BeautifulSoup(response.text, 'html.parser')\n",
    "system_requirements = doc2.find_all('ul', {'class': 'bb_ul'})\n",
    "system_requir = system_requirements[0].find_all('li')\n",
    "Memory2 = system_requir[2].text.strip()\n",
    "\n",
    "game_page_url = game_link[3]\n",
    "response = requests.get(game_page_url)\n",
    "doc2 = BeautifulSoup(response.text, 'html.parser')\n",
    "system_requirements = doc2.find_all('ul', {'class': 'bb_ul'})\n",
    "system_requir = system_requirements[0].find_all('li')\n",
    "Memory3 = system_requir[2].text.strip()\n",
    "\n",
    "game_page_url = game_link[4]\n",
    "response = requests.get(game_page_url)\n",
    "doc2 = BeautifulSoup(response.text, 'html.parser')\n",
    "system_requirements = doc2.find_all('ul', {'class': 'bb_ul'})\n",
    "system_requir = system_requirements[0].find_all('li')\n",
    "Memory4 = system_requir[2].text.strip()"
   ]
  },
  {
   "cell_type": "markdown",
   "metadata": {},
   "source": [
    "#### System Requirements: Graphics"
   ]
  },
  {
   "cell_type": "code",
   "execution_count": 52,
   "metadata": {
    "execution": {
     "iopub.execute_input": "2021-08-03T17:07:55.969856Z",
     "iopub.status.busy": "2021-08-03T17:07:55.969329Z",
     "iopub.status.idle": "2021-08-03T17:07:59.735463Z",
     "shell.execute_reply": "2021-08-03T17:07:59.734344Z",
     "shell.execute_reply.started": "2021-08-03T17:07:55.969822Z"
    }
   },
   "outputs": [],
   "source": [
    "game_page_url = game_link[0]\n",
    "response = requests.get(game_page_url)\n",
    "doc2 = BeautifulSoup(response.text, 'html.parser')\n",
    "system_requirements = doc2.find_all('ul', {'class': 'bb_ul'})\n",
    "system_requir = system_requirements[0].find_all('li')\n",
    "Graphics0 = system_requir[3].text.strip()\n",
    "\n",
    "game_page_url = game_link[2]\n",
    "response = requests.get(game_page_url)\n",
    "doc2 = BeautifulSoup(response.text, 'html.parser')\n",
    "system_requirements = doc2.find_all('ul', {'class': 'bb_ul'})\n",
    "system_requir = system_requirements[0].find_all('li')\n",
    "Graphics1 = system_requir[3].text.strip()\n",
    "\n",
    "game_page_url = game_link[2]\n",
    "response = requests.get(game_page_url)\n",
    "doc2 = BeautifulSoup(response.text, 'html.parser')\n",
    "system_requirements = doc2.find_all('ul', {'class': 'bb_ul'})\n",
    "system_requir = system_requirements[0].find_all('li')\n",
    "Graphics2 = system_requir[3].text.strip()\n",
    "\n",
    "game_page_url = game_link[3]\n",
    "response = requests.get(game_page_url)\n",
    "doc2 = BeautifulSoup(response.text, 'html.parser')\n",
    "system_requirements = doc2.find_all('ul', {'class': 'bb_ul'})\n",
    "system_requir = system_requirements[0].find_all('li')\n",
    "Graphics3 = system_requir[3].text.strip()\n",
    "\n",
    "game_page_url = game_link[4]\n",
    "response = requests.get(game_page_url)\n",
    "doc2 = BeautifulSoup(response.text, 'html.parser')\n",
    "system_requirements = doc2.find_all('ul', {'class': 'bb_ul'})\n",
    "system_requir = system_requirements[0].find_all('li')\n",
    "Graphics4 = system_requir[3].text.strip()"
   ]
  },
  {
   "cell_type": "markdown",
   "metadata": {},
   "source": [
    "#### System Requirements: DirectX"
   ]
  },
  {
   "cell_type": "code",
   "execution_count": 58,
   "metadata": {
    "execution": {
     "iopub.execute_input": "2021-08-03T17:10:56.291447Z",
     "iopub.status.busy": "2021-08-03T17:10:56.291071Z",
     "iopub.status.idle": "2021-08-03T17:11:00.156334Z",
     "shell.execute_reply": "2021-08-03T17:11:00.155287Z",
     "shell.execute_reply.started": "2021-08-03T17:10:56.291417Z"
    }
   },
   "outputs": [],
   "source": [
    "game_page_url = game_link[2]\n",
    "response = requests.get(game_page_url)\n",
    "doc2 = BeautifulSoup(response.text, 'html.parser')\n",
    "system_requirements = doc2.find_all('ul', {'class': 'bb_ul'})\n",
    "system_requir = system_requirements[0].find_all('li')\n",
    "DirectX0 = system_requir[4].text.strip()\n",
    "\n",
    "game_page_url = game_link[2]\n",
    "response = requests.get(game_page_url)\n",
    "doc2 = BeautifulSoup(response.text, 'html.parser')\n",
    "system_requirements = doc2.find_all('ul', {'class': 'bb_ul'})\n",
    "system_requir = system_requirements[0].find_all('li')\n",
    "DirectX1 = system_requir[4].text.strip()\n",
    "\n",
    "game_page_url = game_link[2]\n",
    "response = requests.get(game_page_url)\n",
    "doc2 = BeautifulSoup(response.text, 'html.parser')\n",
    "system_requirements = doc2.find_all('ul', {'class': 'bb_ul'})\n",
    "system_requir = system_requirements[0].find_all('li')\n",
    "DirectX2 = system_requir[4].text.strip()\n",
    "\n",
    "game_page_url = game_link[3]\n",
    "response = requests.get(game_page_url)\n",
    "doc2 = BeautifulSoup(response.text, 'html.parser')\n",
    "system_requirements = doc2.find_all('ul', {'class': 'bb_ul'})\n",
    "system_requir = system_requirements[0].find_all('li')\n",
    "DirectX3 = system_requir[4].text.strip()\n",
    "\n",
    "game_page_url = game_link[4]\n",
    "response = requests.get(game_page_url)\n",
    "doc2 = BeautifulSoup(response.text, 'html.parser')\n",
    "system_requirements = doc2.find_all('ul', {'class': 'bb_ul'})\n",
    "system_requir = system_requirements[0].find_all('li')\n",
    "DirectX4 = system_requir[4].text.strip()"
   ]
  },
  {
   "cell_type": "markdown",
   "metadata": {},
   "source": [
    "#### System Requirements: Storage"
   ]
  },
  {
   "cell_type": "code",
   "execution_count": 61,
   "metadata": {
    "execution": {
     "iopub.execute_input": "2021-08-03T17:12:34.767563Z",
     "iopub.status.busy": "2021-08-03T17:12:34.767004Z",
     "iopub.status.idle": "2021-08-03T17:12:38.543091Z",
     "shell.execute_reply": "2021-08-03T17:12:38.541859Z",
     "shell.execute_reply.started": "2021-08-03T17:12:34.767515Z"
    }
   },
   "outputs": [],
   "source": [
    "game_page_url = game_link[2]\n",
    "response = requests.get(game_page_url)\n",
    "doc2 = BeautifulSoup(response.text, 'html.parser')\n",
    "system_requirements = doc2.find_all('ul', {'class': 'bb_ul'})\n",
    "system_requir = system_requirements[0].find_all('li')\n",
    "Storage0 = system_requir[5].text.strip()\n",
    "\n",
    "game_page_url = game_link[2]\n",
    "response = requests.get(game_page_url)\n",
    "doc2 = BeautifulSoup(response.text, 'html.parser')\n",
    "system_requirements = doc2.find_all('ul', {'class': 'bb_ul'})\n",
    "system_requir = system_requirements[0].find_all('li')\n",
    "Storage1 = system_requir[5].text.strip()\n",
    "\n",
    "game_page_url = game_link[2]\n",
    "response = requests.get(game_page_url)\n",
    "doc2 = BeautifulSoup(response.text, 'html.parser')\n",
    "system_requirements = doc2.find_all('ul', {'class': 'bb_ul'})\n",
    "system_requir = system_requirements[0].find_all('li')\n",
    "Storage2 = system_requir[5].text.strip()\n",
    "\n",
    "game_page_url = game_link[3]\n",
    "response = requests.get(game_page_url)\n",
    "doc2 = BeautifulSoup(response.text, 'html.parser')\n",
    "system_requirements = doc2.find_all('ul', {'class': 'bb_ul'})\n",
    "system_requir = system_requirements[0].find_all('li')\n",
    "Storage3 = system_requir[5].text.strip()\n",
    "\n",
    "game_page_url = game_link[4]\n",
    "response = requests.get(game_page_url)\n",
    "doc2 = BeautifulSoup(response.text, 'html.parser')\n",
    "system_requirements = doc2.find_all('ul', {'class': 'bb_ul'})\n",
    "system_requir = system_requirements[0].find_all('li')\n",
    "Storage4 = system_requir[5].text.strip()"
   ]
  },
  {
   "cell_type": "markdown",
   "metadata": {},
   "source": [
    "#### Storing result in the form of DataFrame"
   ]
  },
  {
   "cell_type": "code",
   "execution_count": 62,
   "metadata": {
    "execution": {
     "iopub.execute_input": "2021-08-03T17:13:21.415783Z",
     "iopub.status.busy": "2021-08-03T17:13:21.415258Z",
     "iopub.status.idle": "2021-08-03T17:13:21.421858Z",
     "shell.execute_reply": "2021-08-03T17:13:21.421007Z",
     "shell.execute_reply.started": "2021-08-03T17:13:21.415748Z"
    }
   },
   "outputs": [],
   "source": [
    "df = pd.DataFrame()"
   ]
  },
  {
   "cell_type": "code",
   "execution_count": 63,
   "metadata": {
    "execution": {
     "iopub.execute_input": "2021-08-03T17:22:12.422620Z",
     "iopub.status.busy": "2021-08-03T17:22:12.422235Z",
     "iopub.status.idle": "2021-08-03T17:22:12.468615Z",
     "shell.execute_reply": "2021-08-03T17:22:12.467851Z",
     "shell.execute_reply.started": "2021-08-03T17:22:12.422588Z"
    }
   },
   "outputs": [],
   "source": [
    "df['Game Name'] = game_name\n",
    "\n",
    "df.at[0,'Positive Rating'] = positive_review0\n",
    "df.at[1,'Positive Rating'] = positive_review1\n",
    "df.at[2,'Positive Rating'] = positive_review2\n",
    "df.at[3,'Positive Rating'] = positive_review3\n",
    "df.at[4,'Positive Rating'] = positive_review4\n",
    "\n",
    "df.at[0,'Developer'] = developer0\n",
    "df.at[1,'Developer'] = developer1\n",
    "df.at[2,'Developer'] = developer2\n",
    "df.at[3,'Developer'] = developer3\n",
    "df.at[4,'Developer'] = developer4\n",
    "\n",
    "df.at[0,'Publisher'] = publisher0\n",
    "df.at[1,'Publisher'] = publisher1\n",
    "df.at[2,'Publisher'] = publisher2\n",
    "df.at[3,'Publisher'] = publisher3\n",
    "df.at[4,'Publisher'] = publisher4\n",
    "\n",
    "df.at[0,'OS'] = OS0\n",
    "df.at[1,'OS'] = OS1\n",
    "df.at[2,'OS'] = OS2\n",
    "df.at[3,'OS'] = OS3\n",
    "df.at[4,'OS'] = OS4\n",
    "\n",
    "df.at[0,'Processor'] = Processor0\n",
    "df.at[1,'Processor'] = Processor1\n",
    "df.at[2,'Processor'] = Processor2\n",
    "df.at[3,'Processor'] = Processor3\n",
    "df.at[4,'Processor'] = Processor4\n",
    "\n",
    "df.at[0,'Memory'] = Memory0\n",
    "df.at[1,'Memory'] = Memory1\n",
    "df.at[2,'Memory'] = Memory2\n",
    "df.at[3,'Memory'] = Memory3\n",
    "df.at[4,'Memory'] = Memory4\n",
    "\n",
    "df.at[0,'Graphics'] = Graphics0\n",
    "df.at[1,'Graphics'] = Graphics1\n",
    "df.at[2,'Graphics'] = Graphics2\n",
    "df.at[3,'Graphics'] = Graphics3\n",
    "df.at[4,'Graphics'] = Graphics4\n",
    "\n",
    "df.at[0,'DirectX'] = DirectX0\n",
    "df.at[1,'DirectX'] = DirectX1\n",
    "df.at[2,'DirectX'] = DirectX2\n",
    "df.at[3,'DirectX'] = DirectX3\n",
    "df.at[4,'DirectX'] = DirectX4\n",
    "\n",
    "df.at[0,'Storage'] = Storage0\n",
    "df.at[1,'Storage'] = Storage1\n",
    "df.at[2,'Storage'] = Storage2\n",
    "df.at[3,'Storage'] = Storage3\n",
    "df.at[4,'Storage'] = Storage4"
   ]
  },
  {
   "cell_type": "code",
   "execution_count": 64,
   "metadata": {
    "execution": {
     "iopub.execute_input": "2021-08-03T17:22:16.859308Z",
     "iopub.status.busy": "2021-08-03T17:22:16.858784Z",
     "iopub.status.idle": "2021-08-03T17:22:16.883342Z",
     "shell.execute_reply": "2021-08-03T17:22:16.882423Z",
     "shell.execute_reply.started": "2021-08-03T17:22:16.859253Z"
    }
   },
   "outputs": [
    {
     "data": {
      "text/html": [
       "<div>\n",
       "<style scoped>\n",
       "    .dataframe tbody tr th:only-of-type {\n",
       "        vertical-align: middle;\n",
       "    }\n",
       "\n",
       "    .dataframe tbody tr th {\n",
       "        vertical-align: top;\n",
       "    }\n",
       "\n",
       "    .dataframe thead th {\n",
       "        text-align: right;\n",
       "    }\n",
       "</style>\n",
       "<table border=\"1\" class=\"dataframe\">\n",
       "  <thead>\n",
       "    <tr style=\"text-align: right;\">\n",
       "      <th></th>\n",
       "      <th>Game Name</th>\n",
       "      <th>Positive Rating</th>\n",
       "      <th>Developer</th>\n",
       "      <th>Publisher</th>\n",
       "      <th>OS</th>\n",
       "      <th>Processor</th>\n",
       "      <th>Memory</th>\n",
       "      <th>Graphics</th>\n",
       "      <th>DirectX</th>\n",
       "      <th>Storage</th>\n",
       "    </tr>\n",
       "  </thead>\n",
       "  <tbody>\n",
       "    <tr>\n",
       "      <th>0</th>\n",
       "      <td>Here Comes Niko!</td>\n",
       "      <td>:</td>\n",
       "      <td>Frog Vibes</td>\n",
       "      <td>Gears for Breakfast</td>\n",
       "      <td>Yes, my boss eats bugs and stuff.</td>\n",
       "      <td>Yes, he does wear a tie.</td>\n",
       "      <td>Type of frog? A green one?</td>\n",
       "      <td>Everyone I meet seems to be some sort of anima...</td>\n",
       "      <td>DirectX: Version 11</td>\n",
       "      <td>Network: Broadband Internet connection</td>\n",
       "    </tr>\n",
       "    <tr>\n",
       "      <th>1</th>\n",
       "      <td>The Ramp</td>\n",
       "      <td>:</td>\n",
       "      <td>Hyperparadise</td>\n",
       "      <td>Hyperparadise</td>\n",
       "      <td>tons of flow</td>\n",
       "      <td>satisfying &amp; unique skateboarding gameplay</td>\n",
       "      <td>easy to learn, hard to master</td>\n",
       "      <td>Graphics: NVIDIA GeForce GTX 770 / AMD Radeon ...</td>\n",
       "      <td>DirectX: Version 11</td>\n",
       "      <td>Network: Broadband Internet connection</td>\n",
       "    </tr>\n",
       "    <tr>\n",
       "      <th>2</th>\n",
       "      <td>Hunter's Arena: Legends</td>\n",
       "      <td>(32)</td>\n",
       "      <td>Mantisco</td>\n",
       "      <td>Mantisco</td>\n",
       "      <td>OS: 64-bit Windows 7, Windows 8.1, Windows 10</td>\n",
       "      <td>Processor: Intel Core i5-4430 / AMD FX-6300</td>\n",
       "      <td>Memory: 8 GB RAM</td>\n",
       "      <td>Graphics: NVIDIA GeForce GTX 770 / AMD Radeon ...</td>\n",
       "      <td>DirectX: Version 11</td>\n",
       "      <td>Network: Broadband Internet connection</td>\n",
       "    </tr>\n",
       "    <tr>\n",
       "      <th>3</th>\n",
       "      <td>Olaguna Chronicles</td>\n",
       "      <td>(44)</td>\n",
       "      <td>SELeft Studio</td>\n",
       "      <td>Lycian Studio</td>\n",
       "      <td>OS: WIN7/WIN10</td>\n",
       "      <td>Processor: Pentium Dual Core级以上</td>\n",
       "      <td>Memory: 2 GB RAM</td>\n",
       "      <td>Graphics: Geforce FX5600级/ATI Radeon9600以上 (支持...</td>\n",
       "      <td>DirectX: Version 9.0c</td>\n",
       "      <td>Storage: 700 MB available space</td>\n",
       "    </tr>\n",
       "    <tr>\n",
       "      <th>4</th>\n",
       "      <td>Who Stole My Beard?</td>\n",
       "      <td>(10)</td>\n",
       "      <td>Cleardot Games</td>\n",
       "      <td>Cleardot Games</td>\n",
       "      <td>OS: 7</td>\n",
       "      <td>Processor: Intel 3 or higher</td>\n",
       "      <td>Memory: 1024 MB RAM</td>\n",
       "      <td>Graphics: Basic (2GB or higher)</td>\n",
       "      <td>Storage: 1024 MB available space</td>\n",
       "      <td>Sound Card: 16-bit</td>\n",
       "    </tr>\n",
       "  </tbody>\n",
       "</table>\n",
       "</div>"
      ],
      "text/plain": [
       "                 Game Name Positive Rating       Developer  \\\n",
       "0         Here Comes Niko!               :      Frog Vibes   \n",
       "1                 The Ramp               :   Hyperparadise   \n",
       "2  Hunter's Arena: Legends            (32)        Mantisco   \n",
       "3       Olaguna Chronicles            (44)   SELeft Studio   \n",
       "4      Who Stole My Beard?            (10)  Cleardot Games   \n",
       "\n",
       "             Publisher                                             OS  \\\n",
       "0  Gears for Breakfast              Yes, my boss eats bugs and stuff.   \n",
       "1        Hyperparadise                                   tons of flow   \n",
       "2             Mantisco  OS: 64-bit Windows 7, Windows 8.1, Windows 10   \n",
       "3        Lycian Studio                                 OS: WIN7/WIN10   \n",
       "4       Cleardot Games                                          OS: 7   \n",
       "\n",
       "                                     Processor                         Memory  \\\n",
       "0                     Yes, he does wear a tie.     Type of frog? A green one?   \n",
       "1   satisfying & unique skateboarding gameplay  easy to learn, hard to master   \n",
       "2  Processor: Intel Core i5-4430 / AMD FX-6300               Memory: 8 GB RAM   \n",
       "3              Processor: Pentium Dual Core级以上               Memory: 2 GB RAM   \n",
       "4                 Processor: Intel 3 or higher            Memory: 1024 MB RAM   \n",
       "\n",
       "                                            Graphics  \\\n",
       "0  Everyone I meet seems to be some sort of anima...   \n",
       "1  Graphics: NVIDIA GeForce GTX 770 / AMD Radeon ...   \n",
       "2  Graphics: NVIDIA GeForce GTX 770 / AMD Radeon ...   \n",
       "3  Graphics: Geforce FX5600级/ATI Radeon9600以上 (支持...   \n",
       "4                    Graphics: Basic (2GB or higher)   \n",
       "\n",
       "                            DirectX                                 Storage  \n",
       "0               DirectX: Version 11  Network: Broadband Internet connection  \n",
       "1               DirectX: Version 11  Network: Broadband Internet connection  \n",
       "2               DirectX: Version 11  Network: Broadband Internet connection  \n",
       "3             DirectX: Version 9.0c         Storage: 700 MB available space  \n",
       "4  Storage: 1024 MB available space                      Sound Card: 16-bit  "
      ]
     },
     "execution_count": 64,
     "metadata": {},
     "output_type": "execute_result"
    }
   ],
   "source": [
    "df"
   ]
  },
  {
   "cell_type": "markdown",
   "metadata": {},
   "source": [
    "#### 10 reviews for each game"
   ]
  },
  {
   "cell_type": "markdown",
   "metadata": {},
   "source": [
    "##### Game - Here Comes Niko!"
   ]
  },
  {
   "cell_type": "code",
   "execution_count": 65,
   "metadata": {
    "execution": {
     "iopub.execute_input": "2021-08-03T17:29:01.023719Z",
     "iopub.status.busy": "2021-08-03T17:29:01.023342Z",
     "iopub.status.idle": "2021-08-03T17:29:01.705118Z",
     "shell.execute_reply": "2021-08-03T17:29:01.703753Z",
     "shell.execute_reply.started": "2021-08-03T17:29:01.023689Z"
    }
   },
   "outputs": [
    {
     "name": "stdout",
     "output_type": "stream",
     "text": [
      "Posted: August 3\n",
      "Product received for free\n",
      "\t\t\t\t\t\t\t\t\t\t\t\t\t\t\t\tHere Comes Niko is pitched as “a game for tired people” and honestly that’s exactly how I feel while playing it. It’s the kind of game you can relax and vibe out to, play for a few minutes without worry and hop back in later without worry. There are no permanent consequences, no omnipresent conflict… but at the same time, as you further the narrative and find secrets, you’ll start to understand Niko as a character more. Their struggles which no amount of simply being happy and cheerful can overcome. I don’t want to spoil things for you, but there’s absolutely a deeper understanding of some of life’s unfortunate hardships here.More than anything, it's a game about realizing that not everybody will always have your best interest at heart. Which is why it’s so much better to hold onto the friends who actually do care about you. At $25 USD, which is about what you should be expecting to pay for indie games bare-minimum these days, I can say that Here Comes Niko! scratched an itch of kinder, non-violent games that I’ve been craving as of late. Highly recommended to fans of A Hat In Time, Banjo & Kazooie, and other collectathon style games. Just make sure you don’t mash through the dialogue, as the game is both hilarious and insightful all the while.\n",
      "Posted: August 3\n",
      "\t\t\t\t\t\t\t\t\t\t\t\t\t\t\t\tFun\n",
      "Posted: August 3\n",
      "\t\t\t\t\t\t\t\t\t\t\t\t\t\t\t\tIf there is something to this game, I'm not seeing it. As far as I can tell, its a collectathon with cutesy characters and graphics. Unfortunately, within the first fifteen minutes of gameplay I was already finding myself doing repetitive tasks. The characters are... ok, I guess. Cute, but their dialogues aren't interesting and they don't really have anything funny to say - they are more caricatures then actual characters. The only plot this game has is Nikos home situtation, which I didn't play far enough to explore. I went to two new islands hoping the game would eventually open up or give me more to do... but after the third time of being given the exact same thing to do with the exact same characters (and a few new ones, I guess) - I gave up. The humor didn't draw me, and the gameplay was far too simplistic (Basically, you run and you jump and collect things. There is a plant puzzle that takes zero effort to figure out. That's it.)For thirty dollars, you aren't getting your moneys worth here. Pass.Pros:+ If you like simple platformers this is probably a good starting point.+ The art is decent, a lot of the models & shaders are fairly simplistic.Cons:- There were major graphical glitches while playing - especially around the water. The entire map would disappear for a few seconds before reappearing sometimes!- Repetitive gameplay- The game couldn't decide whether you use a controller or keyboard, it seems designed for a controller but works better with a keyboard? What?- Story is \"ok\" at best. There isn't really much plot here, the dialogue and characters feel like I have seen them in 30 different indie games. There is a clear target audience here and I think it misses the mark even on that.- The camera is awful at times, it sometimes locks you in at random points and it feels bad in tight spaces.Buy this if you are looking for a really simple adventure, otherwise don't expect anything amazing. I did not play far enough to see if it actually had anything more to it - but for some reason I doubt it.\n",
      "Posted: August 3\n",
      "\t\t\t\t\t\t\t\t\t\t\t\t\t\t\t\t60fpsplz help\n",
      "Posted: August 3\n",
      "\t\t\t\t\t\t\t\t\t\t\t\t\t\t\t\tI completed most of the first area ( save two letters I couldn't - or don't know how to/can't obtain yet ) fairly charming stuff. not as polished as a hat in time control wise, and not as polished as demon turf, for that matter.take mario odyssey, remove fighitng, bosses, and dying - and you have here comes niko in a nutshell. you collect coins by doing favros for ppl ( this can range from find the X, to play volleyball with me, to a platforming challenge, or a puzzle ) the graphical design is very cute, the atmosphere is chamring - and the characters are charming and well-written. good blend of off-kilter humour and dialogue peppered with helpful info and fun stuff ( like a virtual pet for reasons unknown) https://steamcommunity.com/sharedfiles/filedetails/?id=2565111663an exmaple of the culling issue, there's an entire area and building right behind me, but thi is all you see ) at the moment, game has some  mega serious issues with culling  normally, when you cull an asset  - it doesn't remove the asset, but it removes it from sight of the player ( generlaly, back-faced culling would be an object that appears ot be solid 3D, but is actually just a shell with no back - bc the player won't see the back - But here in NIko, all your sprites are BIllboarded ( meaning, they are 2 dimensional, and rotate with the camera and player - just like classic DOOM. )but the 3d polygonal assets are rapidly flickering in and out of view, bc the game for some reaosn doesn't understand where and when it should cull to save on resources. so it's a bit of a mess ( and also epileptic, if you're sensitive to flashing lights - please avoid this game for now ) a bit overpriced for the condition is it in ( thi sis like buying a nice tasting, half-dented watermelon ) please get this shipped up quickly devs, it's a disaster to have it released ( even in early access ) with such a glaring a prevalent issue. leaving a not recommended. if the issue is fixed - it's an automatic recommend, what is here is quite enjoyable and cute. but my eyes are upset with me for dealing with the flickering 3D assets. cheers/\n",
      "Posted: August 3\n",
      "\t\t\t\t\t\t\t\t\t\t\t\t\t\t\t\tThis game is a wonderful, beautiful game already. I've barely put any time in and love every part of the game. It's nooks and crannies are already filled with secrets, and I haven't even made it past the first level. My favourite platformer of 2021 thus far.Also, it took 15 minutes for me to find a frog who, when talked to, played a love song that included the lick. Already my favourite game.\n"
     ]
    }
   ],
   "source": [
    "def getHTML(url):\n",
    "    response = requests.get(url)\n",
    "    return BeautifulSoup(response.content,'html.parser')\n",
    "\n",
    "html = getHTML('https://steamcommunity.com/app/925950/reviews/?browsefilter=toprated')\n",
    "\n",
    "for div in html.find_all('div',{'class','apphub_CardTextContent'}):\n",
    "    print(div.text.strip())\n",
    "    \n",
    "reviews = div"
   ]
  },
  {
   "cell_type": "markdown",
   "metadata": {},
   "source": [
    "##### Game - The Ramp"
   ]
  },
  {
   "cell_type": "code",
   "execution_count": 66,
   "metadata": {
    "execution": {
     "iopub.execute_input": "2021-08-03T17:30:07.143482Z",
     "iopub.status.busy": "2021-08-03T17:30:07.143060Z",
     "iopub.status.idle": "2021-08-03T17:30:10.261100Z",
     "shell.execute_reply": "2021-08-03T17:30:10.260118Z",
     "shell.execute_reply.started": "2021-08-03T17:30:07.143447Z"
    }
   },
   "outputs": [
    {
     "name": "stdout",
     "output_type": "stream",
     "text": [
      "Posted: August 3\n",
      "\t\t\t\t\t\t\t\t\t\t\t\t\t\t\t\tThis is an amazing game! It's been a while since I´ve played something as nice and fun as The Ramp. Several games rely on attributes, complicated levels, failing exactly in gameplay. Here, it's just the opposite! Lots of fluidity and simplicity in the controls that will entertain you for a long time. If you like games like loney mountains: downhill, give it a try! Exactly what I was looking for. Thanks! <3--------Este é um jogo incrível! Já faz um tempo que não jogo algo tão legal e divertido como The Ramp. Vários jogos contam com atributos, níveis complicados, falhando exatamente na jogabilidade. Aqui, é exatamente o oposto! Muita fluidez e simplicidade nos comandos que vão te entreter por muito tempo. Se você gosta de jogos como loney mountains: downhill, experimente! Exatamente o que eu estava procurando. Obrigado! <3\n",
      "Posted: August 3\n",
      "\t\t\t\t\t\t\t\t\t\t\t\t\t\t\t\tAn awesome Zen Minimalist skateboarding game that is simple and to the point, There are some fun achievements to get here and I can see myself jumping back into this anytime I need a break from more intense games.\n",
      "Posted: August 3\n",
      "\t\t\t\t\t\t\t\t\t\t\t\t\t\t\t\tThe Ramp is a fidget spinner for the cool kids.\n",
      "Posted: August 3\n",
      "\t\t\t\t\t\t\t\t\t\t\t\t\t\t\t\tAmazing Skate Game, Chill Vibes, simple yet beautiful graphics, one of the best skate games out there\n",
      "Posted: August 3\n",
      "\t\t\t\t\t\t\t\t\t\t\t\t\t\t\t\tIt has been only a few minutes after purchasing it but the flow of this little gem is amazing. It has that loose skate feeling that I hadn't feel since I was a teen.. It doesn't ask you too much, just go for a few spins. It's like a digital fidget toy but with a snappy gameplay and a lot of style. Couldn't recommend it more.\n",
      "Posted: August 3\n",
      "\t\t\t\t\t\t\t\t\t\t\t\t\t\t\t\tI wouldn't recommend this to my friends.Is this a short game? Yes, it's a 5-10 minute game and you get to see what it has to offer (which are 4 tiny levels).Does the game have a pretty art style that I wish was expanded with more levels? Absolutely.Would I keep replaying it in it's current form? Sadly no.\n",
      "Posted: August 3\n",
      "\t\t\t\t\t\t\t\t\t\t\t\t\t\t\t\tSo satisfying, beautiful and relaxing! The perfect little skating game for unwinding at the end of the day, or taking a little break in between Zoom meetings. Sound and music are spot on, the controls and gameplay are tight, the subtle feedback for landed tricks makes everything super juicy and the maps offer enough variety to make me wanna come back over and over again. 10/10, definitely worth forgoing a medium sized cinnamon pistachio latte for.\n",
      "Posted: August 3\n",
      "\t\t\t\t\t\t\t\t\t\t\t\t\t\t\t\tFantastic vibes. Great feeling game! Nice way to unwind and land some smooth airs.\n",
      "Posted: August 3\n",
      "\t\t\t\t\t\t\t\t\t\t\t\t\t\t\t\tAwesome! I wish there were more developers that made little games like this.Sometimes the joy & beauty of something is in it's simplicity, but I am by no means calling this simple, I can see a lot of love & passion went into the creation.Thank you for sharing it with us all. <3\n",
      "Posted: August 3\n",
      "\t\t\t\t\t\t\t\t\t\t\t\t\t\t\t\tVery beautiful minimalistic and addicting skating gameplay! The game feedback sound and visuals fit brilliantly together creating a really immersive experience.The challange of completing the Steam achivements is very nice, because it doesnt add a strict mission but rather a \"hey cool, you made something nice and difficult and I noticed\", and gives a lose guidance for exploring the game.Nice game overall, would really recommend it and would love to play an expension of it!!\n"
     ]
    }
   ],
   "source": [
    "def getHTML(url):\n",
    "    response = requests.get(url)\n",
    "    return BeautifulSoup(response.content,'html.parser')\n",
    "\n",
    "html = getHTML('https://steamcommunity.com/app/1506510/reviews/?browsefilter=toprated')\n",
    "\n",
    "for div in html.find_all('div',{'class','apphub_CardTextContent'}):\n",
    "    print(div.text.strip())\n",
    "    \n",
    "reviews = div"
   ]
  },
  {
   "cell_type": "markdown",
   "metadata": {},
   "source": [
    "##### Game - Hunters Arena Legends"
   ]
  },
  {
   "cell_type": "code",
   "execution_count": 67,
   "metadata": {
    "execution": {
     "iopub.execute_input": "2021-08-03T17:31:07.794109Z",
     "iopub.status.busy": "2021-08-03T17:31:07.793757Z",
     "iopub.status.idle": "2021-08-03T17:31:10.710113Z",
     "shell.execute_reply": "2021-08-03T17:31:10.708841Z",
     "shell.execute_reply.started": "2021-08-03T17:31:07.794080Z"
    }
   },
   "outputs": [
    {
     "name": "stdout",
     "output_type": "stream",
     "text": [
      "Posted: July 18, 2020\n",
      "Early Access Review\n",
      "\t\t\t\t\t\t\t\tLet me start by saying that, for what it is, the game is great. How ever, it has A LOT of jank that needs to be worked out.Pros: *Fantasy combat Battle Royale, that isn't just fantasy-guns like Realm Royale. This is actual melee combat with skills. *The combat is amazing - at first glance.*The game looks pretty.*Using a non-traditional BR system, such as closing on specific areas, rather than whole chuncks of the map, to keep the genre feeling fresh. *It's pretty.*Class based gameplay, but this is currently more negative than positive.*MOBA style leveling and planning system (note that there is no \"gear\" builds, there are simply items that are explicitly better, so I wont call gear-farming a positive or negative, and simply include it here.)Cons:*Class based gameplay, with an extremely limited number of characters.*Classes are horribly imbalanced. *The Combat system has lots of jank to it. It feels smooth, and at first you'll think it's amazing, but once you start to learn the system and fight players it raises a lot of weird ass questions. Refer to ** for sub notes on combat.** The game is full of infinite combos; if you can stun lock some one, you can immediately 100 to 0 them. That said, there is a skill that breaks you out of infinite combos, but it's cool down is a full 150 seconds. That's TWO AND A HALF MINUTES. I get that it needs a long cool down for some sembalance of balance, but it should be 30 seconds max. This long ass cooldown constantly leads to two people fighting, and then a 3rd person coming in and automatically winning against the last man standing purely because their escape is on cooldown.**The entire combo system, tbh. There are \"martial arts\" which are basically heavy attacks, that exist PURELY to break people out of guards. Typically, you hold left click to block; if some one is blocking, you right click to use a \"martial arts\" to break their guard. If the person being attacked sees the martial arts coming, and they right click before your MA lands, they parry and it opens the attacker up for a combo. This would be an amazing system of skill, if not for the sub-issue of this sub-issue.**Martial Arts are entirely pointless, as light attacks will eventually break the other person's guard, anyway. The only time it's EVER worth using Martial Arts is in Tag Matches (basically 1v1 matches and not actually BR) because there is a short time limit and who ever did the most damage wins, thus you have to take risks to not be timed out. But in the actual game, there's no reason to do this, as if you just keep spamming left click, the target's guard will eventually break no matter what, meaning there's NO reason to ever use Martial Arts, since all it does is give the person defending a chance to parry. This is the biggest flaw in the game, as the entire combat system is built around guarding. Light attacks need to simply NEVER guard break, or the entire core of the game is a useless mechanic that no one smart will use.*A lot of characters are inherently useless; all of the ranged characters are actually melee, but CAN attack at a slight range; but their martial arts skills are all purely melee, so for the combat system to work as intended you have to be in close range anyway; some of the characters marked as range also get the weakness of being a ranged character (less over all damage, and less health) but don't even HAVE ranged attacks. Namely, Yoo what ever the ♥♥♥♥, the newest character. He looks dope though.*The opposite is also true; some of the characters are ABSURDLY tanky, but for some reason also do huge amounts of damage, and have the easiest infinite combos. The panda, for example, literally has a skill that's a like 30 second combo string, that does crazy damage, and if you get hit by the first hit of it, you cannot block the rest of it because it's a skill and if you take skill damage you can no longer block for some reason. This does apply to all skills, not just the panda, but the panda is the only one I'm aware of that has a skill this absurdly overpowered. It makes some character's ults look useless.I'm sure there's more that I could say, but all-in-all I can't recommend this game. For it's price tag, maybe it's worth trying it for like 1.5 hours to see if you like it enough to put up with how awful the combat is and how poorly balanced the game is, but definitely refund ASAP if you even slightly think it's not for you.That said, I REALLY want this game to do well, the combat, while basically broke and at a point where different aspects of it make it's main purpose entirely redundant, is very fun. The game is pretty. The premise over all is amazing. Right now, I'd give it about a 4/10, but if the combat is fixed to be better balanced and more viable, that could easily jump to an 8/10.But hey, what do I know? Maybe the issue is the fact that the dev is Chinese, and there's zero localization out side of English text. Maybe this is just the standard for gameplay over there, and it's just a matter of localizing it to have what a westerner would consider good combat.Either way, the fact that the game is built around Martial Arts/Blocking being the entire core of the gameplay, yet another system makes Martial Arts completely invalid, is a huge turn off. Plus, that escape skill. Really? Over 2 minutes?Did I mention if you get knocked back or airborne, it becomes impossible to block/counter, and thus the escape skill is actually REQUIRED to survive infinite combos? But it has over a 2 minute cooldown?Ok sorry, done ranting. Smh.Edit: TLDR: The combat system relies on guarding and parrying, but because of a combat system being well thought out, but poorly executed, the entire parry system is pointless, because simply never using the intended guard break mechanic means you can never be countered. This is 90% of the combat being thrown out, and it almost entirely devolves into who ever lands the first wins, with only about 20% of the fight being dictated by skill, 20% being the first person to escape (mentioned below) and the other 60% pretty much being who lands the first hit.I've literally had 1v1 matches where I fight the same person, and 1 match they utterly demolish me without me fighting back, and then me doing the same thing to the same person next match.The second most important part for the TLDR is that there are absurdly long infinite combo strings that are easy to do, and 100 to 0; which brings us to the escape-skill that's the 2nd core of combat. The problem with this, is the escape skill has an over 2 minute long cooldown, and fights only last about 30-45 seconds, which basically means the first person to use the escape skill is screwed.\n",
      "Posted: August 17, 2020\n",
      "Product received for free\n",
      "Early Access Review\n",
      "\t\t\t\t\t\t\t\tA bit of a hot take.I'd say I gave this game more than a fair shake. I slogged through it as courtesy to a friend who gifted it to me. I was lured in by the idea of this being a unique fighting game. The characters look cool, the fighting styles looked saucy, and the battle royale was just extra. When i got into it though, i found every encounter frustrating, win or lose. My main gripe are the fights themselves, victors are decided by whoever rushes down 1st and simply guesses right. But that's not all, the way the game tells you to block isn't the correct way to defend, dodges do nothing, inputs seem to vanish into smoke, and your 1 functional escape skill can be easily activated on accident. I'm accustomed to the learning curve of fighting games, but this game manages to make it incredibly unfun for me.Battle Royale has the same problems, but with an extra kick in the balls. The game wants you to farm up levels and gear a bit like a traditional mmo. Farming mobs, killing bosses, finding chest and npcs to upgrade all while death closes in on you. Making your route as efficient as possible is paramount to surviving any fights. I found this pretty fun, and made me think, \"Why didn't they just do this?\" That fun ends when you realize how rewarding it is for players who grind slightly faster than you.Remember that old mmo game with open world pvp you played? Remember how that 1 max level/geared player one-shot you and continued with his day? That's battle royale in a nutshell.What kept me playing however was the community, the developer's community managers are active. The guys n gals streaming this work hard to show people this game's potential. At 1 point i thought i was starting to see that gold nugget, but its really at a loss now. You already know the game's population problem. This game only breathes because of its streamers. Whatever advertising campaign the developers have in the works needed to be done yesteryear.Pros: Cool Characters and fighting stylesUnique ideaLikeable DevsCons:Brutal learning curveInfuriating one-sided fightsPopulationFinal thoughts:This company may have been better off making an mmo/rpg with the assets they have here.\n",
      "Posted: July 15, 2020\n",
      "Early Access Review\n",
      "\t\t\t\t\t\t\t\tNeeds more players, but the actual game is fun as hell.\n",
      "Posted: July 16, 2020\n",
      "Product refunded\n",
      "Early Access Review\n",
      "\t\t\t\t\t\t\t\tThey need OCE servers so its playable for us\n",
      "Posted: July 19, 2020\n",
      "Early Access Review\n",
      "\t\t\t\t\t\t\t\tNot sure what the negative reviews are about,  Most people dont like to look at things in perspective.  This is a new developer and this is their first game being put out, and with that being kept in mind the game is actually very good. but most importantly IT WORKS! I cant tell you how many multi billion dollar companies put out games that are poorly optimized garbage (blizzard). This game does have its bugs obviously, but most are fairly rare. nothing that cant be patched out as long as people are reporting it. But i REALLY want to emphasize the optimization of the game. I experience zero lag, no rubber banding, no input lag, and no random disconnects. In terms of PvP combat, this game plays better in PvP than any other MMO that has mass PvP or open world PvP. This includes tera (especially tera), BDO, BnS, etc.  There IS some quirkyness tho that happens when chasing and tagging a enemy down. Attacks from melee seem to hit when they shouldnt hit, but thats honestly the only weird thing ive noticed thus far and its not anything to rage about considering you can not flee from fights anyway since the opponent will eventually catch up to you through the wind current mechanic. That leads me talk about the game mechanics itself.  Im not going to lie, initially it does feel clunky and takes getting use to. I warrant that all to the fact that the game is tring something new and its its own thing. It plays most closely to a fighting game but not nearly as complex in the execution of your combos.  You look for openings and you try to open up your opponent in order to set up a full combo.  The clunkyness comes from the different abilities you have to manage. The abilities are set up like a moba. You have a passive, and 5 abilities to manage. in BR mode You also have the addition of Fkey items which i absolutely HATE in any video game as well as inventory and a mastery tree if you are playing BR mode. All of this is alot to manage, and if you are coming from a MOBA the ability keys not being on QWER will feel very weird, HOWEVER you get use to this fairly quickly if you put in the work. After playing and practicing a few hours You should get the feel  of managing everything. Everything flows into itself fluidly. Comboing feels very natural and you can change your input keys in settings if you need to. (Edit: i use to think the ultimate wasnt very good, but playing the game more You just use it differently from typical ults/supers in other games. It has alot of useful applications). Im not going to get into balance too much except for one very obvious thing. Tau, the panda, is too good. No im serious, look at the damage on his abilities. then go test what his abilities do. Its actually too ♥♥♥♥♥♥♥ good. For non game mechanic related stuff, such as long ques, low BR player count, or long BR fill times that mostly has to do with a low player base. As i said at the start of this post, the game is new, the devs are new, people are skeptical. No one is really willing to sacrifice $20 to test a new game concept  on BR with the only other game with a similar style being shadow arena (this game is better than shadow arena 100%). The only thing that can fix that is time and game exposure. Personally o consistently get 30-40 players in my BR games, but it takes awhile for it to fill up. This game has ALOT of potential, and i do mean ALOT. There is even a fully functional replay system for the BR mode. its 100% up to the devs to not ♥♥♥♥ it up tho and Do everything in their power to gather a playerbase. I see games like this all the time that have AMAZING potential to be a good game, but the player base just is not their which forces the game to shut down. and this is almost always due to the fact that the devs did not do enough to promote the game. Duelyst being the most recent to come to mind. This game is good and i cant recommend it enough, the only thing holding it back is a playerbase.\n",
      "Posted: October 22, 2020\n",
      "Early Access Review\n",
      "\t\t\t\t\t\t\t\tDamn, this game is already dead? It launched at 15 Jul, 2020. WTF?I can't find any games on EU/DE.Seemed like a cool take on BR/Fighter genre.\n",
      "Posted: November 23, 2020\n",
      "Early Access Review\n",
      "\t\t\t\t\t\t\t\tThey need to remove this game from Steam store. You can't even play a match with bots in this and these devs went MIA.\n",
      "Posted: August 29, 2020\n",
      "Early Access Review\n",
      "\t\t\t\t\t\t\t\tIts alright, interesting take on the battle royal game mode. It's basically a hero rpg battle royal, where you go out into the small world filled with monsters and bosses, killing them to level up and get gear (Which has no effect on appearance, btw), increasing attack value and gear rating, all the while the map slowly shrinks into the circle we are so familiar with in battle royals.  And while all these mechanics make for an interesting game (in the most modest of terms), the players base is a huge put off and the skill difference (if thats what it was) seem to be a huge problem. In solo que, the wait time is probably 10 mins NA, unsure of other regions, and after that wait time theres gonna be at most 5 players if your lucky in your game, out of sixty slots. And again, while its not that big of a deal breaker, the skill difference if your new is out of this world; in the newbie servers you have players that have clearly spent some time playing, running around killing you without the slightest of problems. Alot of the times, they tend to gank while you are attacking a boss or a set of mobs, but i guess thats the game.Over all it's an alright game, with interesting mechanics and a somewhat fresh take on the BR gamemode. But until its fleshed out a bit more and has a decent player base, not really worth the money.\n",
      "Posted: May 17\n",
      "Product refunded\n",
      "Early Access Review\n",
      "\t\t\t\t\t\t\t\tWhen I queued for 10 mins and found no match, I looked up on steamchart and I was the only player in this game. <3\n",
      "Posted: July 15, 2020\n",
      "Early Access Review\n",
      "\t\t\t\t\t\t\t\t1 hour review :).....will update review later.....first time i played this was on launch an hour ago. Straight away look great, plays really smooth seems like it will be a great game.......HOWEVER............no matches currently work as there are no players, I have seen around 8 players in solo lobby but game wont launch into match untill it reaches it limit......whichever that might be. Due to me already being close to the 2 hour limt im having to come off to wait for players.But first impressions looks good......get buying people ,\n"
     ]
    }
   ],
   "source": [
    "def getHTML(url):\n",
    "    response = requests.get(url)\n",
    "    return BeautifulSoup(response.content,'html.parser')\n",
    "\n",
    "html = getHTML('https://steamcommunity.com/app/1061100/reviews/?browsefilter=toprated')\n",
    "\n",
    "for div in html.find_all('div',{'class','apphub_CardTextContent'}):\n",
    "    print(div.text.strip())\n",
    "    \n",
    "reviews = div"
   ]
  },
  {
   "cell_type": "markdown",
   "metadata": {},
   "source": [
    "##### Game - Olaguna Chronicles"
   ]
  },
  {
   "cell_type": "code",
   "execution_count": 71,
   "metadata": {
    "execution": {
     "iopub.execute_input": "2021-08-03T17:33:37.594282Z",
     "iopub.status.busy": "2021-08-03T17:33:37.593887Z",
     "iopub.status.idle": "2021-08-03T17:33:38.036306Z",
     "shell.execute_reply": "2021-08-03T17:33:38.035318Z",
     "shell.execute_reply.started": "2021-08-03T17:33:37.594250Z"
    }
   },
   "outputs": [],
   "source": [
    "def getHTML(url):\n",
    "    response = requests.get(url)\n",
    "    return BeautifulSoup(response.content,'html.parser')\n",
    "\n",
    "html = getHTML('https://steamcommunity.com/app/985650/reviews/?browsefilter=toprated')\n",
    "\n",
    "for div in html.find_all('div',{'class','apphub_CardTextContent'}):\n",
    "    print(div.text.strip())\n",
    "    \n",
    "reviews = div"
   ]
  },
  {
   "cell_type": "markdown",
   "metadata": {},
   "source": [
    "##### Game - Who Stole My Beard"
   ]
  },
  {
   "cell_type": "code",
   "execution_count": 70,
   "metadata": {
    "execution": {
     "iopub.execute_input": "2021-08-03T17:33:28.605310Z",
     "iopub.status.busy": "2021-08-03T17:33:28.604907Z",
     "iopub.status.idle": "2021-08-03T17:33:29.809870Z",
     "shell.execute_reply": "2021-08-03T17:33:29.808865Z",
     "shell.execute_reply.started": "2021-08-03T17:33:28.605273Z"
    }
   },
   "outputs": [
    {
     "name": "stdout",
     "output_type": "stream",
     "text": [
      "Posted: August 2\n",
      "\t\t\t\t\t\t\t\t\t\t\t\t\t\t\t\tFun game with great artwork and bubbly music to accompany you on the journey. I haven't finished the game yet but you can tell this game was created for the right reasons and it shows. If you enjoy simple RPG's, light humor, beards, and dogs....then you'll enjoy this game!\n",
      "Posted: August 2\n",
      "\t\t\t\t\t\t\t\t\t\t\t\t\t\t\t\tA friend of mine recommended this game to me due to the hidden Bitcoin in it, so I decided to try it.  Overall, I love the pace of the game and the quirky storyline and all the hidden secrets and pop culture references. It's definitely a chill, casual kind of game with wide variety of side quests and things to do. The story is heart-warming and honestly I was quite surprised by how much I enjoyed the characters and the dialog. It is obvious a lot of effort went into this and it shines through in the many little details. I still have a ways to go but so far I am really enjoying it.\n",
      "Posted: August 2\n",
      "\t\t\t\t\t\t\t\t\t\t\t\t\t\t\t\tThis game has been so much fun. Very reminiscent of classic RPG's that we all grew up with. I love the mystery, all the puzzles and police adventures, the story line was great and cute music soundtracks.The developer has even put it on sale for the first week I believe, you really cannot go wrong with this purchase. Also check out the NFT's available. One of a kind :)\n",
      "Posted: August 2\n",
      "\t\t\t\t\t\t\t\t\t\t\t\t\t\t\t\tBeen playing this game nonstop for over an hour now and it is fantastic! The funny dialogue, witty humor, amazing music and artwork are such joys to experience and the unique story is very gripping! I took a short break to help spread the word on it but cannot wait to jump back in and continue the story. I wholeheartedly recommend this game to anyone who likes a little mystery and comedy wrapped in one package!\n",
      "Posted: August 2\n",
      "\t\t\t\t\t\t\t\t\t\t\t\t\t\t\t\tI love how this game combines nostalgia and quirkiness into a hilarious, sweet story. The dialogue options are absolutely hilarious, and the mini games are easy to understand but also the perfect challenge!\n",
      "Posted: August 2\n",
      "\t\t\t\t\t\t\t\t\t\t\t\t\t\t\t\tFun game with a real indie vibe - tones of Stardew Valley, and plenty of humor. There is a lot to do, and it gives me that warm, fuzzy feel of Stardew and retro SNES games.\n",
      "Posted: August 2\n",
      "\t\t\t\t\t\t\t\t\t\t\t\t\t\t\t\tBeautiful nostalgic retro RPG game with charm and character.\n",
      "Posted: August 2\n",
      "\t\t\t\t\t\t\t\t\t\t\t\t\t\t\t\tStarted playing this and the first thing I noticed was the amazing and fun music. That can make or break a game. I enjoy actually playing a game with a different type of theme and this is it. I enjoy the variety of mini games included such as boss fights, darts and puzzles. I look forward to finishing this game and seeing what it has to offer. So far really loving it cause its a different spin on things!\n",
      "Posted: August 2\n",
      "\t\t\t\t\t\t\t\t\t\t\t\t\t\t\t\tI just tried this out because I like RGPSs, and so far it's funny and mysterious.  I laughed a few times already. I recommend if you are into this genre.\n",
      "Posted: August 2\n",
      "\t\t\t\t\t\t\t\t\t\t\t\t\t\t\t\tStill playing it, but so far it's been the best beard themed game I've ever played.\n"
     ]
    }
   ],
   "source": [
    "def getHTML(url):\n",
    "    response = requests.get(url)\n",
    "    return BeautifulSoup(response.content,'html.parser')\n",
    "\n",
    "html = getHTML('https://steamcommunity.com/app/1141270/reviews/?browsefilter=toprated')\n",
    "\n",
    "for div in html.find_all('div',{'class','apphub_CardTextContent'}):\n",
    "    print(div.text.strip())\n",
    "    \n",
    "reviews = div"
   ]
  },
  {
   "cell_type": "code",
   "execution_count": null,
   "metadata": {},
   "outputs": [],
   "source": []
  }
 ],
 "metadata": {
  "kernelspec": {
   "display_name": "Python 3",
   "language": "python",
   "name": "python3"
  },
  "language_info": {
   "codemirror_mode": {
    "name": "ipython",
    "version": 3
   },
   "file_extension": ".py",
   "mimetype": "text/x-python",
   "name": "python",
   "nbconvert_exporter": "python",
   "pygments_lexer": "ipython3",
   "version": "3.8.8"
  }
 },
 "nbformat": 4,
 "nbformat_minor": 4
}
